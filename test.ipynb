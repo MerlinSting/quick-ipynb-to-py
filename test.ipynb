{
 "cells": [
  {
   "cell_type": "markdown",
   "metadata": {},
   "source": [
    "# Markdown Cell:\n",
    "This is a test notebook.\n",
    "It contains code and markdown cells.\n",
    "We will use it to test the ipynb to py converter."
   ]
  },
  {
   "cell_type": "code",
   "execution_count": null,
   "metadata": {},
   "outputs": [],
   "source": [
    "# Code Cell 1:\n",
    "a = 10\n",
    "b = 20\n",
    "c = a + b\n",
    "print(c)"
   ]
  },
  {
   "cell_type": "code",
   "execution_count": null,
   "metadata": {},
   "outputs": [],
   "source": [
    "# Code Cell 2:\n",
    "def my_function(x, y):\n",
    "    \"\"\"\n",
    "    This is a test function.\n",
    "    \"\"\"\n",
    "    result = x * y\n",
    "    return result\n",
    "\n",
    "result1 = my_function(5, 6)\n",
    "print(result1)"
   ]
  },
  {
   "cell_type": "code",
   "execution_count": null,
   "metadata": {},
   "outputs": [],
   "source": [
    "# Code Cell 3:\n",
    "class MyClass:\n",
    "    def __init__(self, value):\n",
    "        self.value = value\n",
    "\n",
    "    def get_value(self):\n",
    "        return self.value\n",
    "\n",
    "obj = MyClass(42)\n",
    "print(obj.get_value())"
   ]
  },
  {
   "cell_type": "code",
   "execution_count": null,
   "metadata": {},
   "outputs": [],
   "source": [
    "# Code Cell 4:\n",
    "unused_variable = 100 # This should be removed\n",
    "used_variable = 50\n",
    "print(used_variable)"
   ]
  },
  {
   "cell_type": "code",
   "execution_count": null,
   "metadata": {},
   "outputs": [],
   "source": [
    "# Code Cell 5:\n",
    "for i in range(3):\n",
    "    temp_var = i * 2 # temp_var should remain.\n",
    "    print(temp_var)"
   ]
  },
  {
   "cell_type": "code",
   "execution_count": null,
   "metadata": {},
   "outputs": [],
   "source": [
    " Code Cell 6:\n",
    "def another_function(p, q):\n",
    "    return p + q\n",
    "\n",
    "result2 = another_function(1, 2)\n",
    "print(result2)\n",
    "\n",
    "#Code Cell 7:\n",
    "test_list = [1,2,3,4,5]\n",
    "for item in test_list:\n",
    "    print(item)\n",
    "\n",
    "#Code Cell 8:\n",
    "test_dict = {\"a\":1, \"b\":2}\n",
    "print(test_dict[\"a\"])\n",
    "\n",
    "#Code Cell 9:\n",
    "#this should produce a syntax error if not handled.\n",
    "#for i in range(3):\n",
    "# print(i)\n",
    "\n",
    "#Code Cell 10:\n",
    "def function_with_type_hint(value: int) -> str:\n",
    "    return str(value)\n",
    "\n",
    "print(function_with_type_hint(123))"
   ]
  }
 ],
 "metadata": {
  "kernelspec": {
   "display_name": "ipython_to_py_env",
   "language": "python",
   "name": "python3"
  },
  "language_info": {
   "name": "python",
   "version": "3.12.9"
  }
 },
 "nbformat": 4,
 "nbformat_minor": 2
}
